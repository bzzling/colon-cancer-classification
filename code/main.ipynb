{
 "cells": [
  {
   "cell_type": "code",
   "execution_count": 1,
   "metadata": {},
   "outputs": [],
   "source": [
    "import os\n",
    "import pathlib\n",
    "import shutil\n",
    "from PIL import Image\n",
    "from pathlib import Path\n",
    "from typing import Tuple, Dict, List\n",
    "import pandas as pd\n",
    "import numpy as np\n",
    "import torch\n",
    "from torch import nn\n",
    "from torchvision import datasets, transforms\n",
    "from torch.utils.data import DataLoader, random_split\n",
    "import matplotlib.pyplot as plt\n",
    "from timeit import default_timer as timer\n",
    "from tqdm import tqdm"
   ]
  },
  {
   "cell_type": "code",
   "execution_count": null,
   "metadata": {},
   "outputs": [],
   "source": [
    "# config\n",
    "\n",
    "# specify main data path\n",
    "PATH = \"./data\"\n",
    "\n",
    "# specify the paths to the directory where the data is stored\n",
    "TRAIN = \"./data/train\"\n",
    "VALID = \".data/val\"\n",
    "\n",
    "# specify input height and width\n",
    "\n",
    "HEIGHT = 128\n",
    "WIDTH = 128\n",
    "\n",
    "# set batch size and split\n",
    "\n",
    "BATCH_SIZE = 32\n",
    "VAL_SPLIT = 0.1"
   ]
  },
  {
   "cell_type": "code",
   "execution_count": 9,
   "metadata": {},
   "outputs": [
    {
     "name": "stdout",
     "output_type": "stream",
     "text": [
      "torch.Size([3, 128, 128])\n"
     ]
    }
   ],
   "source": [
    "# Define the transforms\n",
    "transform = transforms.Compose([\n",
    "    transforms.Resize((128, 128)),\n",
    "    transforms.ToTensor(),\n",
    "])\n",
    "\n",
    "# Load the dataset\n",
    "dataset = datasets.ImageFolder(root='/Users/brandonling/Projects/colon-cancer-classification-using-cnn/data/', transform=transform)\n",
    "\n",
    "# Check the size of the images\n",
    "for img, _ in dataset:\n",
    "    print(img.size())\n",
    "    break  # Remove this line if you want to check all images"
   ]
  }
 ],
 "metadata": {
  "kernelspec": {
   "display_name": "base",
   "language": "python",
   "name": "python3"
  },
  "language_info": {
   "codemirror_mode": {
    "name": "ipython",
    "version": 3
   },
   "file_extension": ".py",
   "mimetype": "text/x-python",
   "name": "python",
   "nbconvert_exporter": "python",
   "pygments_lexer": "ipython3",
   "version": "3.11.5"
  }
 },
 "nbformat": 4,
 "nbformat_minor": 2
}
